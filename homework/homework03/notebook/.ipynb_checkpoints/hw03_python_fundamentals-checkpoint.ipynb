{
 "cells": [
  {
   "cell_type": "markdown",
   "id": "fab31ef8-7b82-4940-96a2-bdb78758e747",
   "metadata": {},
   "source": [
    "# Stage 03: Python Fundamentals"
   ]
  },
  {
   "cell_type": "code",
   "execution_count": 27,
   "id": "187d9a60",
   "metadata": {},
   "outputs": [],
   "source": [
    "import numpy as np\n",
    "import os\n",
    "import pandas as pd\n",
    "import matplotlib.pyplot as plt\n",
    "from datetime import datetime"
   ]
  },
  {
   "cell_type": "code",
   "execution_count": 3,
   "id": "d402e587-8233-4cbf-a7ed-1212b43b94f2",
   "metadata": {},
   "outputs": [],
   "source": [
    "def set_homework3_dir(): #Sets the working directory to the homework3 folder.\n",
    "\n",
    "    path = r\"C:\\Users\\Kartavya\\bootcamp_Kartavya_Joshi\\homework\\homework\\homework3\"\n",
    "    os.chdir(path)\n",
    "    print(\"Working directory set to: {os.getcwd()}\")\n"
   ]
  },
  {
   "cell_type": "markdown",
   "id": "f105ab1f-42ff-478a-9558-439214c2729b",
   "metadata": {},
   "source": [
    "## Array Elementwise operations"
   ]
  },
  {
   "cell_type": "code",
   "execution_count": 5,
   "id": "a0b80546",
   "metadata": {},
   "outputs": [
    {
     "name": "stdout",
     "output_type": "stream",
     "text": [
      "[11 22 33 44 55] [111 222 333 444 555]\n"
     ]
    }
   ],
   "source": [
    "arr1= np.array([11,22,33,44,55])\n",
    "arr2= np.array([111,222,333,444,555])\n",
    "print(arr1, arr2)"
   ]
  },
  {
   "cell_type": "code",
   "execution_count": 6,
   "id": "7e2c3ab1",
   "metadata": {},
   "outputs": [
    {
     "data": {
      "text/plain": [
       "array([122, 244, 366, 488, 610])"
      ]
     },
     "execution_count": 6,
     "metadata": {},
     "output_type": "execute_result"
    }
   ],
   "source": [
    "arrm= arr1*arr2\n",
    "arrm\n",
    "sum=arr1+arr2\n",
    "sum"
   ]
  },
  {
   "cell_type": "markdown",
   "id": "b8cc01b4-9f2b-403c-bf04-1418cc3f50cb",
   "metadata": {},
   "source": [
    "## Mean, Stddev - Utility function"
   ]
  },
  {
   "cell_type": "code",
   "execution_count": 8,
   "id": "1b0957f5-b4d2-4030-9012-cd4129658125",
   "metadata": {},
   "outputs": [
    {
     "data": {
      "text/plain": [
       "(366.0, 172.5340546095176)"
      ]
     },
     "execution_count": 8,
     "metadata": {},
     "output_type": "execute_result"
    }
   ],
   "source": [
    "def mean_std(meanstd):\n",
    "    arr= np.array(meanstd)\n",
    "    return np.mean(arr),np.std(arr)\n",
    "\n",
    "mean_std(sum)\n"
   ]
  },
  {
   "cell_type": "markdown",
   "id": "a59db789-cc54-4265-859a-19b87d1851e2",
   "metadata": {},
   "source": [
    "## Loop vs Vectorized Execution"
   ]
  },
  {
   "cell_type": "code",
   "execution_count": 10,
   "id": "ad5db826-8bf3-40f4-bd8a-4bfb8b627aec",
   "metadata": {},
   "outputs": [
    {
     "name": "stdout",
     "output_type": "stream",
     "text": [
      "24 ns ± 2.89 ns per loop (mean ± std. dev. of 7 runs, 100,000,000 loops each)\n",
      "5.97 μs ± 554 ns per loop (mean ± std. dev. of 7 runs, 100,000 loops each)\n"
     ]
    }
   ],
   "source": [
    "price= np.random.uniform(10, 20, size=100)\n",
    "window = 5\n",
    "mul= np.ones(window)\n",
    "def moving_avg_loop(x):\n",
    "    moving_avg_loop=[]\n",
    "\n",
    "    for i in range(len(price) - window + 1):\n",
    "        ma = sum(price[i:i+window]) / window\n",
    "        moving_avg_loop.append(ma)\n",
    "    return moving_avg_loop\n",
    "\n",
    "\n",
    "%timeit moving_avg_loop\n",
    "%timeit ma_vec=np.convolve(price,mul/window, mode ='valid')\n",
    "\n",
    "\n",
    "\n",
    "\n",
    "    \n",
    "\n"
   ]
  },
  {
   "cell_type": "code",
   "execution_count": 11,
   "id": "7f5e7e89-4a21-49f6-aa3e-11c295961326",
   "metadata": {
    "scrolled": true
   },
   "outputs": [
    {
     "name": "stdout",
     "output_type": "stream",
     "text": [
      "31.1 ns ± 6.47 ns per loop (mean ± std. dev. of 7 runs, 10,000,000 loops each)\n",
      "393 μs ± 30.5 μs per loop (mean ± std. dev. of 7 runs, 1,000 loops each)\n"
     ]
    }
   ],
   "source": [
    "import pandas as pd\n",
    "window2 = 2\n",
    "def daily_return(y):\n",
    "    daily_return=[]\n",
    "\n",
    "    for m in range(len[price]+1):\n",
    "        d_return = (price(m)-price(m-1))/price(m-1)*100\n",
    "        daily_return.append(ma)\n",
    "    return daily_return\n",
    "\n",
    "%timeit daily_return\n",
    "prices_pd = pd.Series(price)\n",
    "%timeit dailyreturn_vec= prices_pd.pct_change()"
   ]
  },
  {
   "cell_type": "markdown",
   "id": "5a768d88-fc65-41ca-a84e-b28dc5e6628b",
   "metadata": {},
   "source": [
    "## Loading CSV file and inspecting data"
   ]
  },
  {
   "cell_type": "code",
   "execution_count": 13,
   "id": "a0f5f92c-50b9-4330-a0e6-e90c3a7cfe1b",
   "metadata": {},
   "outputs": [
    {
     "data": {
      "text/html": [
       "<div>\n",
       "<style scoped>\n",
       "    .dataframe tbody tr th:only-of-type {\n",
       "        vertical-align: middle;\n",
       "    }\n",
       "\n",
       "    .dataframe tbody tr th {\n",
       "        vertical-align: top;\n",
       "    }\n",
       "\n",
       "    .dataframe thead th {\n",
       "        text-align: right;\n",
       "    }\n",
       "</style>\n",
       "<table border=\"1\" class=\"dataframe\">\n",
       "  <thead>\n",
       "    <tr style=\"text-align: right;\">\n",
       "      <th></th>\n",
       "      <th>category</th>\n",
       "      <th>value</th>\n",
       "      <th>date</th>\n",
       "    </tr>\n",
       "  </thead>\n",
       "  <tbody>\n",
       "    <tr>\n",
       "      <th>0</th>\n",
       "      <td>A</td>\n",
       "      <td>10</td>\n",
       "      <td>2025-08-01</td>\n",
       "    </tr>\n",
       "    <tr>\n",
       "      <th>1</th>\n",
       "      <td>B</td>\n",
       "      <td>15</td>\n",
       "      <td>2025-08-02</td>\n",
       "    </tr>\n",
       "    <tr>\n",
       "      <th>2</th>\n",
       "      <td>A</td>\n",
       "      <td>12</td>\n",
       "      <td>2025-08-03</td>\n",
       "    </tr>\n",
       "    <tr>\n",
       "      <th>3</th>\n",
       "      <td>B</td>\n",
       "      <td>18</td>\n",
       "      <td>2025-08-04</td>\n",
       "    </tr>\n",
       "    <tr>\n",
       "      <th>4</th>\n",
       "      <td>C</td>\n",
       "      <td>25</td>\n",
       "      <td>2025-08-05</td>\n",
       "    </tr>\n",
       "  </tbody>\n",
       "</table>\n",
       "</div>"
      ],
      "text/plain": [
       "  category  value        date\n",
       "0        A     10  2025-08-01\n",
       "1        B     15  2025-08-02\n",
       "2        A     12  2025-08-03\n",
       "3        B     18  2025-08-04\n",
       "4        C     25  2025-08-05"
      ]
     },
     "execution_count": 13,
     "metadata": {},
     "output_type": "execute_result"
    }
   ],
   "source": [
    "df = pd.read_csv(\"starter_data.csv\")\n",
    "df.head()"
   ]
  },
  {
   "cell_type": "code",
   "execution_count": 14,
   "id": "9ada1524-7bae-4019-ab7d-acb1667152ad",
   "metadata": {},
   "outputs": [
    {
     "name": "stdout",
     "output_type": "stream",
     "text": [
      "<class 'pandas.core.frame.DataFrame'>\n",
      "RangeIndex: 10 entries, 0 to 9\n",
      "Data columns (total 3 columns):\n",
      " #   Column    Non-Null Count  Dtype \n",
      "---  ------    --------------  ----- \n",
      " 0   category  10 non-null     object\n",
      " 1   value     10 non-null     int64 \n",
      " 2   date      10 non-null     object\n",
      "dtypes: int64(1), object(2)\n",
      "memory usage: 372.0+ bytes\n"
     ]
    }
   ],
   "source": [
    "df.info()"
   ]
  },
  {
   "cell_type": "code",
   "execution_count": 15,
   "id": "1ec35a27-ffb6-446a-a02c-f29d50b8c7cb",
   "metadata": {},
   "outputs": [
    {
     "data": {
      "text/html": [
       "<div>\n",
       "<style scoped>\n",
       "    .dataframe tbody tr th:only-of-type {\n",
       "        vertical-align: middle;\n",
       "    }\n",
       "\n",
       "    .dataframe tbody tr th {\n",
       "        vertical-align: top;\n",
       "    }\n",
       "\n",
       "    .dataframe thead th {\n",
       "        text-align: right;\n",
       "    }\n",
       "</style>\n",
       "<table border=\"1\" class=\"dataframe\">\n",
       "  <thead>\n",
       "    <tr style=\"text-align: right;\">\n",
       "      <th></th>\n",
       "      <th>value</th>\n",
       "    </tr>\n",
       "  </thead>\n",
       "  <tbody>\n",
       "    <tr>\n",
       "      <th>count</th>\n",
       "      <td>10.000000</td>\n",
       "    </tr>\n",
       "    <tr>\n",
       "      <th>mean</th>\n",
       "      <td>17.600000</td>\n",
       "    </tr>\n",
       "    <tr>\n",
       "      <th>std</th>\n",
       "      <td>7.381659</td>\n",
       "    </tr>\n",
       "    <tr>\n",
       "      <th>min</th>\n",
       "      <td>10.000000</td>\n",
       "    </tr>\n",
       "    <tr>\n",
       "      <th>25%</th>\n",
       "      <td>12.250000</td>\n",
       "    </tr>\n",
       "    <tr>\n",
       "      <th>50%</th>\n",
       "      <td>14.500000</td>\n",
       "    </tr>\n",
       "    <tr>\n",
       "      <th>75%</th>\n",
       "      <td>23.250000</td>\n",
       "    </tr>\n",
       "    <tr>\n",
       "      <th>max</th>\n",
       "      <td>30.000000</td>\n",
       "    </tr>\n",
       "  </tbody>\n",
       "</table>\n",
       "</div>"
      ],
      "text/plain": [
       "           value\n",
       "count  10.000000\n",
       "mean   17.600000\n",
       "std     7.381659\n",
       "min    10.000000\n",
       "25%    12.250000\n",
       "50%    14.500000\n",
       "75%    23.250000\n",
       "max    30.000000"
      ]
     },
     "execution_count": 15,
     "metadata": {},
     "output_type": "execute_result"
    }
   ],
   "source": [
    "df.describe()"
   ]
  },
  {
   "cell_type": "markdown",
   "id": "b8b80609-a217-4102-99fe-a569df6b54d9",
   "metadata": {},
   "source": [
    "## Aggregation and stats"
   ]
  },
  {
   "cell_type": "code",
   "execution_count": null,
   "id": "c41c3f81-05d1-46de-bd00-45b30a5444b5",
   "metadata": {},
   "outputs": [],
   "source": [
    "set_homework3_dir()\n",
    "summary = df.groupby('category')['value'].agg(['mean', 'std','median']).reset_index()\n",
    "summary.columns = ['Category', 'Mean', 'Std','Median']\n",
    "summary.to_csv('data/processed/summary.csv', index=False)\n",
    "summary"
   ]
  },
  {
   "cell_type": "code",
   "execution_count": 51,
   "id": "41091f9e-745c-48c4-8a6d-26f3b9573145",
   "metadata": {},
   "outputs": [
    {
     "data": {
      "image/png": "[encoded data removed]",
      "text/plain": [
       "<Figure size 1000x600 with 1 Axes>"
      ]
     },
     "metadata": {},
     "output_type": "display_data"
    }
   ],
   "source": [
    "import seaborn as sb\n",
    "df['date'] = pd.to_datetime(df['date'])\n",
    "\n",
    "plt.figure(figsize=(10, 6))\n",
    "sb.lineplot(x='date', y='value', hue='category', data=df, marker='o')\n",
    "\n",
    "plt.title('Value over Time by Category', fontsize=20)\n",
    "plt.xlabel('Date', fontsize=10)\n",
    "plt.ylabel('Value', fontsize=10)\n",
    "plt.grid(True)\n",
    "\n",
    "plt.tight_layout()\n",
    "plt.savefig('data/processed/change_over_time.png');"
   ]
  },
  {
   "cell_type": "markdown",
   "id": "eba9fe36-ca1a-4950-ae07-379459faab8f",
   "metadata": {},
   "source": [
    "## Import src/utils.py"
   ]
  },
  {
   "cell_type": "code",
   "execution_count": 53,
   "id": "6510e84e-bfe5-4160-946b-5f7c11b8067b",
   "metadata": {},
   "outputs": [
    {
     "data": {
      "text/plain": [
       "'C:\\\\Users\\\\Kartavya\\\\bootcamp_Kartavya_Joshi\\\\homework\\\\homework\\\\homework3'"
      ]
     },
     "execution_count": 53,
     "metadata": {},
     "output_type": "execute_result"
    }
   ],
   "source": [
    "os.getcwd()\n",
    "path1 = r\"C:\\Users\\Kartavya\\bootcamp_Kartavya_Joshi\\homework\\homework\\homework3\"\n",
    "os.chdir(path1)\n",
    "os.getcwd()\n",
    "#from src.utils import get_summary_stats\n",
    "\n",
    "\n",
    "#df = pd.read_csv(\"data/starter_data.csv\")\n",
    "#summary = get_summary_stats(df)\n",
    "#print(summary)"
   ]
  },
  {
   "cell_type": "code",
   "execution_count": null,
   "id": "7d2634fe-ba04-4f36-a0e0-ff0ef9ffccd2",
   "metadata": {},
   "outputs": [],
   "source": []
  },
  {
   "cell_type": "code",
   "execution_count": null,
   "id": "a5eeb7c6-e2f5-4ed6-9127-e02b8badea9c",
   "metadata": {},
   "outputs": [],
   "source": []
  }
 ],
 "metadata": {
  "kernelspec": {
   "display_name": "Python 3 (ipykernel)",
   "language": "python",
   "name": "python3"
  },
  "language_info": {
   "codemirror_mode": {
    "name": "ipython",
    "version": 3
   },
   "file_extension": ".py",
   "mimetype": "text/x-python",
   "name": "python",
   "nbconvert_exporter": "python",
   "pygments_lexer": "ipython3",
   "version": "3.12.7"
  }
 },
 "nbformat": 4,
 "nbformat_minor": 5
}
