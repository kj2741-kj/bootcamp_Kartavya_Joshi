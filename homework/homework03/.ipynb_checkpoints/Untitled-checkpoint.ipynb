{
 "cells": [
  {
   "cell_type": "code",
   "execution_count": 21,
   "id": "2f34e201-d932-41b3-a277-8d9ff925fccd",
   "metadata": {},
   "outputs": [
    {
     "ename": "SyntaxError",
     "evalue": "invalid syntax (3100898694.py, line 3)",
     "output_type": "error",
     "traceback": [
      "\u001b[1;36m  Cell \u001b[1;32mIn[21], line 3\u001b[1;36m\u001b[0m\n\u001b[1;33m    cd ../../..\u001b[0m\n\u001b[1;37m        ^\u001b[0m\n\u001b[1;31mSyntaxError\u001b[0m\u001b[1;31m:\u001b[0m invalid syntax\n"
     ]
    }
   ],
   "source": [
    "import os, textwrap, pathlib\n",
    "\n",
    "\n",
    "REPO_name = \"Bootcamp project\"\n",
    "Folders = [\"data\",\"src\",\"notebooks\",\"docs\"]\n",
    "\n",
    "base = pathlib.Path.cwd()/REPO_name\n",
    "base.mkdir(exist_ok=True)\n",
    "for f in Folders: \n",
    "    (base / f).mkdir(parents=True, exist_ok=True)\n",
    "    README_TEMPLATE = textwrap.dedent(\"\"\"\n",
    "    #Problem Title: ZN LME-MCX Arbitrage opportunities\n",
    "    #Problem Statement: The Head of Metals Trading at a commodities firm is exploring a Python-based pricing model to capture arbitrage opportunities in Zinc between the London Metal Exchange (LME) and MCX, incorporating real-world carry and logistics costs. Zinc can be purchased from Nyrstar Europe for delivery to an LME warehouse in Europe, or shipped directly from Europe to India for delivery into MCX. Dislocations occur when MCX near-month prices, converted into USD/tonne, diverge from LME 3M prices by more than the full landed cost differential between the two delivery routes. The model will integrate market prices, USD/INR exchange rates, and cost inputs including storage, financing, insurance, customs duties, and freight rates from leading vessel logistics providers. It will provide descriptive analytics to monitor gross and net spreads over time, predictive forecasts of net spreads for both LME and MCX delivery scenarios. The decision-maker is the Head of Metals Trading, who will use this tool to determine optimal routing, timing, and execution of physical and paper trades to maximize arbitrage capture.\n",
    "\n",
    "#Stakeholder & User: Primary stakeholder: Head of Metals Trading at the commodity trading firm. End users: Physical metals traders, freight & logistics managers, execution analysts in the trading desk. The Head of Metals Trading needs to decide when and how to execute arbitrage trades between LME and MCX, factoring in both price spreads and logistics/carry costs. Traders and logistics managers use the model to plan the optimal delivery route (LME warehouse Europe vs MCX India) and execution timing.\n",
    "\n",
    "Useful Answer & Decision\n",
    "Useful form of output: Metrics: Historical spread charts, threshold breach counts, forecast accuracy stats. Artifact: A Python-generated arbitrage signal table/dashboard showing: LME 3M Zinc price (USD/t) MCX near-month Zinc price (converted to USD/t) Freight & carry costs for each route Gross spread, Net spread, Signal flag (1/0) Forecasted Net spread for next 5 days\n",
    "\n",
    "##Assumptions & Constraints Data availability: Reliable daily settlement prices for LME 3M Zinc and MCX near-month Zinc futures; timely FX rates (USD/INR, EUR/USD); daily freight rate index from logistics provider. Capacity: Trading desk can execute both paper and physical arbitrage trades up to pre-defined position limits; logistics can handle shipment volumes without bottlenecks. Latency: Price and freight data updated at least daily; execution decisions must be made within a 4–6 hour window after data update to remain valid. Compliance: All trades comply with exchange rules, SEBI/IFSC regulations, and physical delivery documentation requirements; adhere to warehouse and export/import norms. Model scope: Only considers Europe → India route; assumes no mid-route transshipment delays.\n",
    "\n",
    "##Known Unknowns / Risks Freight cost volatility: Ocean freight rates may spike unexpectedly; will test model sensitivity by running scenarios ±20% freight change. Carry cost changes: LME storage rates or MCX delivery charges could change; monitor quarterly for parameter updates. FX volatility: USD/INR and EUR/USD fluctuations may erode arbitrage profit; incorporate FX sensitivity analysis. Execution risk: Possible mismatch between theoretical signal and actual fill prices; monitor signal slippage over a test period. Regulatory changes: Import/export duties or trade restrictions could close arbitrage windows abruptly; set up news alerts and compliance checks.\n",
    "\n",
    "##Lifecycle Mapping Goal → Stage → Deliverable Identify historical and current LME–MCX Zinc spreads (gross and net) → Problem Framing & Scoping (Stage 01) → Cleaned dataset with spread calculations Model and forecast net spreads → Data Science Model Development (Stage 02) → Predictive model with backtest results Integrate into execution workflow → Deployment & Monitoring (Stage 03) → Live signal dashboard and daily report\n",
    "base\n",
    "\"\"\")\n",
    "    readme_path = base / \"README.md\"\n",
    "if not readme_path.exists():\n",
    "    readme_path.write_text(README_TEMPLATE, encoding=\"utf-8\")\n",
    "readme_path.resolve()"
   ]
  },
  {
   "cell_type": "code",
   "execution_count": null,
   "id": "d7b8d811-e865-4b89-a9f3-6973656db31f",
   "metadata": {},
   "outputs": [],
   "source": []
  }
 ],
 "metadata": {
  "kernelspec": {
   "display_name": "Python (bootcamp_env)",
   "language": "python",
   "name": "bootcamp_env"
  },
  "language_info": {
   "codemirror_mode": {
    "name": "ipython",
    "version": 3
   },
   "file_extension": ".py",
   "mimetype": "text/x-python",
   "name": "python",
   "nbconvert_exporter": "python",
   "pygments_lexer": "ipython3",
   "version": "3.12.7"
  }
 },
 "nbformat": 4,
 "nbformat_minor": 5
}
