{
 "cells": [
  {
   "cell_type": "markdown",
   "id": "fab31ef8-7b82-4940-96a2-bdb78758e747",
   "metadata": {},
   "source": [
    "Stage 03: Python Fundamentals"
   ]
  },
  {
   "cell_type": "markdown",
   "id": "5a768d88-fc65-41ca-a84e-b28dc5e6628b",
   "metadata": {},
   "source": [
    "Loading CSV file and inspecting data"
   ]
  },
  {
   "cell_type": "code",
   "execution_count": 29,
   "id": "a0f5f92c-50b9-4330-a0e6-e90c3a7cfe1b",
   "metadata": {},
   "outputs": [],
   "source": [
    "import pandas as pd\n",
    "import numpy as np\n",
    "import os\n",
    "\n",
    "#os.getcwd()\n",
    "#path = r\"C:\\Users\\Kartavya\\bootcamp_Kartavya_Joshi\\homework\\homework\\homework3\"\n",
    "#os.chdir(path)\n",
    "\n",
    "#df = pd.read_csv(\"starter_data.csv\")\n",
    "#df.head()#"
   ]
  },
  {
   "cell_type": "markdown",
   "id": "b8b80609-a217-4102-99fe-a569df6b54d9",
   "metadata": {},
   "source": [
    "Aggregation and stats"
   ]
  },
  {
   "cell_type": "code",
   "execution_count": 31,
   "id": "c41c3f81-05d1-46de-bd00-45b30a5444b5",
   "metadata": {},
   "outputs": [],
   "source": [
    "def get_summary_stats(df):\n",
    "    summary = df.groupby('category')['value'].agg(['mean', 'std','median']).reset_index()\n",
    "    summary.columns = ['Category', 'Mean', 'Std','Median']\n",
    "    summary.to_csv('data/processed/summary.csv', index=False)\n",
    "    return summary"
   ]
  },
  {
   "cell_type": "code",
   "execution_count": null,
   "id": "6510e84e-bfe5-4160-946b-5f7c11b8067b",
   "metadata": {},
   "outputs": [],
   "source": [
    "\n"
   ]
  }
 ],
 "metadata": {
  "kernelspec": {
   "display_name": "Python 3 (ipykernel)",
   "language": "python",
   "name": "python3"
  },
  "language_info": {
   "codemirror_mode": {
    "name": "ipython",
    "version": 3
   },
   "file_extension": ".py",
   "mimetype": "text/x-python",
   "name": "python",
   "nbconvert_exporter": "python",
   "pygments_lexer": "ipython3",
   "version": "3.12.7"
  }
 },
 "nbformat": 4,
 "nbformat_minor": 5
}
