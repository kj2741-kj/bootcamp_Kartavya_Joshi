{
 "cells": [
  {
   "cell_type": "code",
   "execution_count": 19,
   "id": "010a6bfd-4803-4947-8e8f-979efe955816",
   "metadata": {},
   "outputs": [
    {
     "data": {
      "text/html": [
       "<div>\n",
       "<style scoped>\n",
       "    .dataframe tbody tr th:only-of-type {\n",
       "        vertical-align: middle;\n",
       "    }\n",
       "\n",
       "    .dataframe tbody tr th {\n",
       "        vertical-align: top;\n",
       "    }\n",
       "\n",
       "    .dataframe thead th {\n",
       "        text-align: right;\n",
       "    }\n",
       "</style>\n",
       "<table border=\"1\" class=\"dataframe\">\n",
       "  <thead>\n",
       "    <tr style=\"text-align: right;\">\n",
       "      <th></th>\n",
       "      <th>customer_id</th>\n",
       "      <th>income</th>\n",
       "      <th>credit_score</th>\n",
       "      <th>monthly_spend</th>\n",
       "      <th>region</th>\n",
       "    </tr>\n",
       "  </thead>\n",
       "  <tbody>\n",
       "    <tr>\n",
       "      <th>0</th>\n",
       "      <td>1</td>\n",
       "      <td>67450</td>\n",
       "      <td>609</td>\n",
       "      <td>2214</td>\n",
       "      <td>North</td>\n",
       "    </tr>\n",
       "    <tr>\n",
       "      <th>1</th>\n",
       "      <td>2</td>\n",
       "      <td>57926</td>\n",
       "      <td>658</td>\n",
       "      <td>2336</td>\n",
       "      <td>West</td>\n",
       "    </tr>\n",
       "    <tr>\n",
       "      <th>2</th>\n",
       "      <td>3</td>\n",
       "      <td>69715</td>\n",
       "      <td>662</td>\n",
       "      <td>2649</td>\n",
       "      <td>South</td>\n",
       "    </tr>\n",
       "    <tr>\n",
       "      <th>3</th>\n",
       "      <td>4</td>\n",
       "      <td>82845</td>\n",
       "      <td>639</td>\n",
       "      <td>2632</td>\n",
       "      <td>North</td>\n",
       "    </tr>\n",
       "    <tr>\n",
       "      <th>4</th>\n",
       "      <td>5</td>\n",
       "      <td>56487</td>\n",
       "      <td>671</td>\n",
       "      <td>1173</td>\n",
       "      <td>North</td>\n",
       "    </tr>\n",
       "    <tr>\n",
       "      <th>...</th>\n",
       "      <td>...</td>\n",
       "      <td>...</td>\n",
       "      <td>...</td>\n",
       "      <td>...</td>\n",
       "      <td>...</td>\n",
       "    </tr>\n",
       "    <tr>\n",
       "      <th>95</th>\n",
       "      <td>96</td>\n",
       "      <td>38047</td>\n",
       "      <td>699</td>\n",
       "      <td>1584</td>\n",
       "      <td>South</td>\n",
       "    </tr>\n",
       "    <tr>\n",
       "      <th>96</th>\n",
       "      <td>97</td>\n",
       "      <td>64441</td>\n",
       "      <td>635</td>\n",
       "      <td>2539</td>\n",
       "      <td>East</td>\n",
       "    </tr>\n",
       "    <tr>\n",
       "      <th>97</th>\n",
       "      <td>98</td>\n",
       "      <td>63915</td>\n",
       "      <td>687</td>\n",
       "      <td>2184</td>\n",
       "      <td>South</td>\n",
       "    </tr>\n",
       "    <tr>\n",
       "      <th>98</th>\n",
       "      <td>99</td>\n",
       "      <td>60076</td>\n",
       "      <td>682</td>\n",
       "      <td>2487</td>\n",
       "      <td>North</td>\n",
       "    </tr>\n",
       "    <tr>\n",
       "      <th>99</th>\n",
       "      <td>100</td>\n",
       "      <td>56481</td>\n",
       "      <td>622</td>\n",
       "      <td>2377</td>\n",
       "      <td>West</td>\n",
       "    </tr>\n",
       "  </tbody>\n",
       "</table>\n",
       "<p>100 rows × 5 columns</p>\n",
       "</div>"
      ],
      "text/plain": [
       "    customer_id  income  credit_score  monthly_spend region\n",
       "0             1   67450           609           2214  North\n",
       "1             2   57926           658           2336   West\n",
       "2             3   69715           662           2649  South\n",
       "3             4   82845           639           2632  North\n",
       "4             5   56487           671           1173  North\n",
       "..          ...     ...           ...            ...    ...\n",
       "95           96   38047           699           1584  South\n",
       "96           97   64441           635           2539   East\n",
       "97           98   63915           687           2184  South\n",
       "98           99   60076           682           2487  North\n",
       "99          100   56481           622           2377   West\n",
       "\n",
       "[100 rows x 5 columns]"
      ]
     },
     "execution_count": 19,
     "metadata": {},
     "output_type": "execute_result"
    }
   ],
   "source": [
    "import os, numpy as np, pandas as pd, datetime as dt, pathlib\n",
    "from dotenv import load_dotenv\n",
    "\n",
    "load_dotenv()\n",
    "\n",
    "# Generate synthetic financial dataset\n",
    "np.random.seed(42)\n",
    "n = 100\n",
    "\n",
    "df = pd.DataFrame({\n",
    "    'customer_id': range(1, n+1),\n",
    "    'income': np.random.normal(60000, 15000, n).astype(int),\n",
    "    'credit_score': np.random.normal(680, 50, n).astype(int),\n",
    "    'monthly_spend': np.random.normal(2000, 600, n).astype(int),\n",
    "    'region': np.random.choice(['North','South','East','West'], n),\n",
    "})\n",
    "df"
   ]
  },
  {
   "cell_type": "code",
   "execution_count": 9,
   "id": "2c546ab1-3a26-4c59-b8d7-17d5813d8cae",
   "metadata": {},
   "outputs": [
    {
     "data": {
      "text/plain": [
       "'C:\\\\Users\\\\Kartavya\\\\bootcamp_Kartavya_Joshi\\\\homework\\\\homework\\\\homework5'"
      ]
     },
     "execution_count": 9,
     "metadata": {},
     "output_type": "execute_result"
    }
   ],
   "source": [
    "path = r\"C:\\Users\\Kartavya\\bootcamp_Kartavya_Joshi\\homework\\homework\\homework5\"\n",
    "os.chdir(path)\n",
    "os.getcwd()"
   ]
  },
  {
   "cell_type": "code",
   "execution_count": 91,
   "id": "29ea4069-0167-41bb-b1eb-d0afe99fdcaa",
   "metadata": {},
   "outputs": [
    {
     "name": "stdout",
     "output_type": "stream",
     "text": [
      "RAW_DIR: C:\\Users\\Kartavya\\bootcamp_Kartavya_Joshi\\homework\\homework\\homework5\\data\\raw\n",
      "PROCESS_DIR: C:\\Users\\Kartavya\\bootcamp_Kartavya_Joshi\\homework\\homework\\homework5\\data\\processed\n",
      "RAW_DIR: C:\\Users\\Kartavya\\bootcamp_Kartavya_Joshi\\homework\\homework\\homework5\\notebook\n",
      "RAW_DIR: C:\\Users\\Kartavya\\bootcamp_Kartavya_Joshi\\homework\\homework\\homework5\\src\n"
     ]
    }
   ],
   "source": [
    "RAW_DIR=pathlib.Path((os.getenv(\"DATA_DIR_RAW\",\"data/raw\")))\n",
    "PROCESS_DIR=pathlib.Path(os.getenv(\"PROCESS_DIR_RAW\",\"data/processed\"))\n",
    "NOTE_DIR=pathlib.Path(os.getenv(\"NOTE_DIR_RAW\",\"notebook\"))\n",
    "SRC_DIR=pathlib.Path(os.getenv(\"SRC_DIR_RAW\",\"src\"))\n",
    "RAW_DIR.mkdir(parents=True, exist_ok=True)\n",
    "print(\"RAW_DIR:\",RAW_DIR.resolve())\n",
    "PROCESS_DIR.mkdir(parents=True, exist_ok=True)\n",
    "print(\"PROCESS_DIR:\",PROCESS_DIR.resolve())\n",
    "NOTE_DIR.mkdir(parents=True, exist_ok=True)\n",
    "print(\"RAW_DIR:\",NOTE_DIR.resolve())\n",
    "SRC_DIR.mkdir(parents=True, exist_ok=True)\n",
    "print(\"RAW_DIR:\",SRC_DIR.resolve())"
   ]
  },
  {
   "cell_type": "code",
   "execution_count": 51,
   "id": "7c9cf917-a3fc-44ba-93d5-646d6948e271",
   "metadata": {},
   "outputs": [
    {
     "name": "stdout",
     "output_type": "stream",
     "text": [
      "Saved CSV → data\\raw\\income_20250820-105051.csv\n",
      "Saved Parquet → data\\processed\\incomeparquet_20250820-105051.csv\n"
     ]
    }
   ],
   "source": [
    "# defining timestamp function\n",
    "def ts():\n",
    "    return dt.datetime.now().strftime('%Y%m%d-%H%M%S')\n",
    "\n",
    "# saving file with timestamp\n",
    "raw_path= RAW_DIR/ f\"income_{ts()}.csv\"\n",
    "parq_path = PROCESS_DIR/ f\"incomeparquet_{ts()}.csv\"\n",
    "\n",
    "df.to_csv(raw_path, index=False)\n",
    "print(\"Saved CSV →\", raw_path)\n",
    "\n",
    "try:\n",
    "    df.to_parquet(parq_path)  # uses installed engine if available\n",
    "    print(\"Saved Parquet →\", parq_path)\n",
    "except Exception as e:\n",
    "    print(\"Parquet save failed (engine missing?). Skipping Parquet demo.\")\n",
    "    print(\"Error:\", e)"
   ]
  },
  {
   "cell_type": "markdown",
   "id": "0c1f8b37-414b-451f-a368-e7cbe698f335",
   "metadata": {},
   "source": [
    "Reloading and Validation"
   ]
  },
  {
   "cell_type": "code",
   "execution_count": 81,
   "id": "2d69a293-84a6-4386-9985-84b2464edbec",
   "metadata": {},
   "outputs": [
    {
     "name": "stdout",
     "output_type": "stream",
     "text": [
      "CSV validation: {'shape_equal': True, 'cols_present': True, 'customer_id_is_numeric': True, 'region': True}\n",
      "Parquet validation: {'shape_equal': True, 'cols_present': True, 'customer_id_is_numeric': True, 'region': True}\n"
     ]
    }
   ],
   "source": [
    "def reload_validate(data: pd.DataFrame, rel: pd.DataFrame, cols=('customer_id','income','credit_score','monthly_spend','region')):\n",
    "    checks = {\n",
    "        'shape_equal': data.shape == rel.shape,\n",
    "        'cols_present': all(c in rel.columns for c in cols)\n",
    "    }\n",
    "    if 'customer_id' in rel.columns:\n",
    "        checks['customer_id_is_numeric'] = pd.api.types.is_numeric_dtype(rel['customer_id'])\n",
    "    if 'region' in rel.columns:\n",
    "        checks['region'] = pd.api.types.is_string_dtype(rel['region'])\n",
    "    return checks\n",
    "\n",
    "df_csv = pd.read_csv(raw_path)\n",
    "print('CSV validation:', reload_validate(df, df_csv))\n",
    "\n",
    "if parq_path.exists():\n",
    "    try:\n",
    "        df_parq = pd.read_parquet(parq_path)\n",
    "        print('Parquet validation:', reload_validate(df, df_parq))\n",
    "    except Exception as e:\n",
    "        print('Parquet read failed:', e)\n",
    "else:\n",
    "    print('Parquet file not present (skipped earlier).')"
   ]
  },
  {
   "cell_type": "code",
   "execution_count": null,
   "id": "03a2d742-08a0-4e47-9134-e8eceaa99e33",
   "metadata": {},
   "outputs": [],
   "source": [
    "Utility fx: write_df and read_df"
   ]
  },
  {
   "cell_type": "code",
   "execution_count": 87,
   "id": "ae982bc8-1e2f-48b7-81f9-4388069a26af",
   "metadata": {},
   "outputs": [
    {
     "name": "stdout",
     "output_type": "stream",
     "text": [
      "Reloaded CSV via util, shape: (100, 5)\n",
      "Reloaded Parquet via util, shape: (100, 5)\n"
     ]
    }
   ],
   "source": [
    "from typing import Union\n",
    "\n",
    "def ensure_dir(path: pathlib.Path):\n",
    "    path.parent.mkdir(parents=True, exist_ok=True)\n",
    "\n",
    "def detect_format(path: Union[str, pathlib.Path]):\n",
    "    suf = str(path).lower()\n",
    "    if suf.endswith('.csv'): return 'csv'\n",
    "    if suf.endswith('.parquet') or suf.endswith('.pq') or suf.endswith('.parq'): return 'parquet'\n",
    "    raise ValueError('Unsupported format for: ' + str(path))\n",
    "\n",
    "def write_df(df: pd.DataFrame, path: Union[str, pathlib.Path]):\n",
    "    path = pathlib.Path(path)\n",
    "    ensure_dir(path)\n",
    "    fmt = detect_format(path)\n",
    "    if fmt == 'csv':\n",
    "        df.to_csv(path, index=False)\n",
    "    elif fmt == 'parquet':\n",
    "        try:\n",
    "            df.to_parquet(path)\n",
    "        except Exception as e:\n",
    "            print(\"Parquet engine not available. Install pyarrow or fastparquet\")\n",
    "            #raise RuntimeError('Parquet engine not available. Install pyarrow or fastparquet.') from e\n",
    "    return path\n",
    "\n",
    "def read_df(path: Union[str, pathlib.Path]):\n",
    "    path = pathlib.Path(path)\n",
    "    fmt = detect_format(path)\n",
    "    if fmt == 'csv':\n",
    "        return pd.read_csv(path, parse_dates=['date']) if 'date' in pd.read_csv(path, nrows=0).columns else pd.read_csv(path)\n",
    "    elif fmt == 'parquet':\n",
    "        try:\n",
    "            return pd.read_parquet(path)\n",
    "        except Exception as e:\n",
    "            raise RuntimeError('Parquet engine not available. Install pyarrow or fastparquet.') from e\n",
    "\n",
    "# Demo utility usage\n",
    "csv2 = RAW_DIR / f\"prices_util_{ts()}.csv\"\n",
    "pq2  = PROCESS_DIR / f\"prices_util_{ts()}.parquet\"\n",
    "write_df(df, csv2)\n",
    "df2 = read_df(csv2)\n",
    "print('Reloaded CSV via util, shape:', df2.shape)\n",
    "\n",
    "try:\n",
    "    write_df(df, pq2)\n",
    "    df3 = read_df(pq2)\n",
    "    print('Reloaded Parquet via util, shape:', df3.shape)\n",
    "except RuntimeError as e:\n",
    "    print('Parquet util demo skipped:', e)"
   ]
  },
  {
   "cell_type": "code",
   "execution_count": null,
   "id": "9917c809-e643-474f-abce-ea92bbc49b3c",
   "metadata": {},
   "outputs": [],
   "source": []
  }
 ],
 "metadata": {
  "kernelspec": {
   "display_name": "Python(Fe-course_env)",
   "language": "python",
   "name": "fe-course"
  },
  "language_info": {
   "codemirror_mode": {
    "name": "ipython",
    "version": 3
   },
   "file_extension": ".py",
   "mimetype": "text/x-python",
   "name": "python",
   "nbconvert_exporter": "python",
   "pygments_lexer": "ipython3",
   "version": "3.12.7"
  }
 },
 "nbformat": 4,
 "nbformat_minor": 5
}
