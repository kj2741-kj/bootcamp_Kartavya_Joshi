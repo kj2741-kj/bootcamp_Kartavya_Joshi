{
 "cells": [
  {
   "cell_type": "markdown",
   "id": "39bda664",
   "metadata": {},
   "source": [
    "# Stage 09 — Homework Starter Notebook\n",
    "\n",
    "In the lecture, we learned how to create engineered features. Now it’s your turn to apply those ideas to your own project data."
   ]
  },
  {
   "cell_type": "code",
   "execution_count": null,
   "id": "2eabac62",
   "metadata": {},
   "outputs": [],
   "source": [
    "import pandas as pd\n",
    "import numpy as np\n",
    "from sklearn.preprocessing import LabelEncoder, PolynomialFeatures\n",
    "\n",
    "# Example synthetic data (replace with your project dataset)\n",
    "np.random.seed(0)\n",
    "n = 100\n",
    "df = pd.DataFrame({\n",
    "    'income': np.random.normal(60000, 15000, n).astype(int),\n",
    "    'monthly_spend': np.random.normal(2000, 600, n).astype(int),\n",
    "    'credit_score': np.random.normal(680, 50, n).astype(int)\n",
    "})\n",
    "df.head()"
   ]
  },
  {
   "cell_type": "markdown",
   "id": "dbe52afb",
   "metadata": {},
   "source": [
    "## TODO: Implement at least 2 engineered features here"
   ]
  },
  {
   "cell_type": "code",
   "execution_count": 5,
   "id": "d06211cb",
   "metadata": {},
   "outputs": [],
   "source": [
    "# Example template:\n",
    "df['spend_income_ratio'] = df['monthly_spend'] / df['income']  # TODO: Your feature\n",
    "# Add rationale in markdown below"
   ]
  },
  {
   "cell_type": "markdown",
   "id": "a31ecb69",
   "metadata": {},
   "source": [
    "### Rationale for Feature 1\n",
    "This Feature helps to confirm the debt repayment capacity of customer vs the spending. this is a useful feature in determining credit score as it confirms the credibility of customer."
   ]
  },
  {
   "cell_type": "code",
   "execution_count": 8,
   "id": "7a9b9115",
   "metadata": {},
   "outputs": [
    {
     "data": {
      "text/html": [
       "<div>\n",
       "<style scoped>\n",
       "    .dataframe tbody tr th:only-of-type {\n",
       "        vertical-align: middle;\n",
       "    }\n",
       "\n",
       "    .dataframe tbody tr th {\n",
       "        vertical-align: top;\n",
       "    }\n",
       "\n",
       "    .dataframe thead th {\n",
       "        text-align: right;\n",
       "    }\n",
       "</style>\n",
       "<table border=\"1\" class=\"dataframe\">\n",
       "  <thead>\n",
       "    <tr style=\"text-align: right;\">\n",
       "      <th></th>\n",
       "      <th>income</th>\n",
       "      <th>monthly_spend</th>\n",
       "      <th>credit_score</th>\n",
       "      <th>spend_income_ratio</th>\n",
       "      <th>income</th>\n",
       "      <th>monthly_spend</th>\n",
       "      <th>income^2</th>\n",
       "      <th>income monthly_spend</th>\n",
       "      <th>monthly_spend^2</th>\n",
       "    </tr>\n",
       "  </thead>\n",
       "  <tbody>\n",
       "    <tr>\n",
       "      <th>0</th>\n",
       "      <td>86460</td>\n",
       "      <td>3129</td>\n",
       "      <td>661</td>\n",
       "      <td>0.036190</td>\n",
       "      <td>86460.0</td>\n",
       "      <td>3129.0</td>\n",
       "      <td>7.475332e+09</td>\n",
       "      <td>270533340.0</td>\n",
       "      <td>9790641.0</td>\n",
       "    </tr>\n",
       "    <tr>\n",
       "      <th>1</th>\n",
       "      <td>66002</td>\n",
       "      <td>1191</td>\n",
       "      <td>668</td>\n",
       "      <td>0.018045</td>\n",
       "      <td>66002.0</td>\n",
       "      <td>1191.0</td>\n",
       "      <td>4.356264e+09</td>\n",
       "      <td>78608382.0</td>\n",
       "      <td>1418481.0</td>\n",
       "    </tr>\n",
       "    <tr>\n",
       "      <th>2</th>\n",
       "      <td>74681</td>\n",
       "      <td>1237</td>\n",
       "      <td>734</td>\n",
       "      <td>0.016564</td>\n",
       "      <td>74681.0</td>\n",
       "      <td>1237.0</td>\n",
       "      <td>5.577252e+09</td>\n",
       "      <td>92380397.0</td>\n",
       "      <td>1530169.0</td>\n",
       "    </tr>\n",
       "    <tr>\n",
       "      <th>3</th>\n",
       "      <td>93613</td>\n",
       "      <td>2581</td>\n",
       "      <td>712</td>\n",
       "      <td>0.027571</td>\n",
       "      <td>93613.0</td>\n",
       "      <td>2581.0</td>\n",
       "      <td>8.763394e+09</td>\n",
       "      <td>241615153.0</td>\n",
       "      <td>6661561.0</td>\n",
       "    </tr>\n",
       "    <tr>\n",
       "      <th>4</th>\n",
       "      <td>88013</td>\n",
       "      <td>1296</td>\n",
       "      <td>712</td>\n",
       "      <td>0.014725</td>\n",
       "      <td>88013.0</td>\n",
       "      <td>1296.0</td>\n",
       "      <td>7.746288e+09</td>\n",
       "      <td>114064848.0</td>\n",
       "      <td>1679616.0</td>\n",
       "    </tr>\n",
       "  </tbody>\n",
       "</table>\n",
       "</div>"
      ],
      "text/plain": [
       "   income  monthly_spend  credit_score  spend_income_ratio   income  \\\n",
       "0   86460           3129           661            0.036190  86460.0   \n",
       "1   66002           1191           668            0.018045  66002.0   \n",
       "2   74681           1237           734            0.016564  74681.0   \n",
       "3   93613           2581           712            0.027571  93613.0   \n",
       "4   88013           1296           712            0.014725  88013.0   \n",
       "\n",
       "   monthly_spend      income^2  income monthly_spend  monthly_spend^2  \n",
       "0         3129.0  7.475332e+09           270533340.0        9790641.0  \n",
       "1         1191.0  4.356264e+09            78608382.0        1418481.0  \n",
       "2         1237.0  5.577252e+09            92380397.0        1530169.0  \n",
       "3         2581.0  8.763394e+09           241615153.0        6661561.0  \n",
       "4         1296.0  7.746288e+09           114064848.0        1679616.0  "
      ]
     },
     "execution_count": 8,
     "metadata": {},
     "output_type": "execute_result"
    }
   ],
   "source": [
    "# TODO: Add another feature\n",
    "poly = PolynomialFeatures(degree=2, include_bias=False) \n",
    "poly_features = poly.fit_transform(df[['income','monthly_spend']])\n",
    "poly_df = pd.DataFrame(poly_features, columns=poly.get_feature_names_out(['income','monthly_spend']))\n",
    "\n",
    "df = pd.concat([df, poly_df], axis=1)\n",
    "df.head()\n",
    "# Example: df['rolling_spend_mean'] = df['monthly_spend'].rolling(3).mean()"
   ]
  },
  {
   "cell_type": "markdown",
   "id": "e099d25e",
   "metadata": {},
   "source": [
    "### Rationale for Feature 2\n",
    "This dataset includes two independent variable- monthly_spend and income, one dependent variable credit_score. It indicates it is not a linear relationship between both dependent and independent variables, and thus we generated a feature which is a combination of both Further we will use PCA, cross verification to decided the significance of each feature and Linear regression to train-test-split and predict. "
   ]
  }
 ],
 "metadata": {
  "kernelspec": {
   "display_name": "Python 3 (ipykernel)",
   "language": "python",
   "name": "python3"
  },
  "language_info": {
   "codemirror_mode": {
    "name": "ipython",
    "version": 3
   },
   "file_extension": ".py",
   "mimetype": "text/x-python",
   "name": "python",
   "nbconvert_exporter": "python",
   "pygments_lexer": "ipython3",
   "version": "3.12.7"
  }
 },
 "nbformat": 4,
 "nbformat_minor": 5
}
