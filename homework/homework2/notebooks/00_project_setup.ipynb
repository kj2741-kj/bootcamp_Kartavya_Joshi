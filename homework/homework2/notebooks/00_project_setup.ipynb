{
 "cells": [
  {
   "cell_type": "code",
   "execution_count": 100,
   "id": "00db9f96-58d4-4464-b1e7-bccd9d4ddb36",
   "metadata": {},
   "outputs": [
    {
     "name": "stdout",
     "output_type": "stream",
     "text": [
      "Python version: 3.12.7 | packaged by Anaconda, Inc. | (main, Oct  4 2024, 13:17:27) [MSC v.1929 64 bit (AMD64)]\n",
      "Interpreter path: C:\\ProgramData\\anaconda3\\python.exe\n"
     ]
    }
   ],
   "source": [
    "import os, textwrap, pathlib, numpy\n",
    "\n",
    "os.getcwd()\n",
    "print(\"Python version:\", sys.version)\n",
    "print(\"Interpreter path:\", sys.executable)\n"
   ]
  },
  {
   "cell_type": "code",
   "execution_count": 3,
   "id": "b95af38c-4b98-4330-ba07-e12cebb64584",
   "metadata": {},
   "outputs": [],
   "source": [
    "path = r\"C:\\Users\\Kartavya\\bootcamp_Kartavya_Joshi\\homework\\homework\\homework2\"\n",
    "os.chdir(path)"
   ]
  },
  {
   "cell_type": "code",
   "execution_count": 4,
   "id": "d7fcc6ce-449b-4a08-a5a8-27aef2f70679",
   "metadata": {},
   "outputs": [
    {
     "data": {
      "text/plain": [
       "WindowsPath('C:/Users/Kartavya/bootcamp_Kartavya_Joshi/homework/homework/homework2/README.md')"
      ]
     },
     "execution_count": 4,
     "metadata": {},
     "output_type": "execute_result"
    }
   ],
   "source": [
    "Folders = [\"data\",\"notebooks\",\"src\"]\n",
    "path = pathlib.Path.cwd()\n",
    "path\n",
    "path.mkdir(exist_ok=True)\n",
    "for f in Folders: \n",
    "    (path/f).mkdir(parents=True, exist_ok=True)\n",
    "    \n",
    "README_TEMPLATE = textwrap.dedent(\"\"\"\n",
    "#Tooling Setup:\n",
    "This is a scaffold for my Bootcamp project:\"ZN LME-MCX Arbitrage opportunities\". It consists of folders for data (/data/), notebooks (/notebooks/), source files (/src/) and secrets via .env through which files of this project will be managed and organised\n",
    "\"\"\")\n",
    "readme_path = path / \"README.md\"\n",
    "if not readme_path.exists():\n",
    "    readme_path.write_text(README_TEMPLATE, encoding=\"utf-8\")\n",
    "readme_path.resolve()"
   ]
  },
  {
   "cell_type": "code",
   "execution_count": 102,
   "id": "43049ac6-b83c-4348-a4e6-dc475fb0e900",
   "metadata": {},
   "outputs": [
    {
     "name": "stdout",
     "output_type": "stream",
     "text": [
      "Imports OK\n"
     ]
    }
   ],
   "source": [
    "try:\n",
    "    import numpy as np\n",
    "    from dotenv import load_dotenv\n",
    "    print(\"Imports OK\")\n",
    "except Exception as e:\n",
    "    print(\"Import error:\", e)\n",
    "    raise"
   ]
  },
  {
   "cell_type": "code",
   "execution_count": 104,
   "id": "55b5940d-d9cd-4c0f-90ca-f35a8867d63f",
   "metadata": {},
   "outputs": [
    {
     "name": "stdout",
     "output_type": "stream",
     "text": [
      ".env loaded (if present)\n"
     ]
    }
   ],
   "source": [
    "os.getcwd()\n",
    "load_dotenv()  \n",
    "print(\".env loaded (if present)\")\n"
   ]
  },
  {
   "cell_type": "code",
   "execution_count": 119,
   "id": "f45a1ad8-5fac-4919-b1a6-5876db79af6f",
   "metadata": {},
   "outputs": [
    {
     "name": "stdout",
     "output_type": "stream",
     "text": [
      "API_KEY present: True\n",
      "DATA_DIR from env: ./data\n",
      "True\n"
     ]
    }
   ],
   "source": [
    "# path = r\"C:\\Users\\Kartavya\\bootcamp_Kartavya_Joshi\\homework\\homework\\homework2\\src\"\n",
    "# os.chdir(path)\n",
    "# os.getcwd()\n",
    "\n",
    "from config import get_key\n",
    "api_key_present = src.config.get_key(\"API_KEY\") is not None\n",
    "data_dir_env = src.config.get_key(\"DATA_DIR\")\n",
    "\n",
    "print(\"API_KEY present:\", api_key_present)\n",
    "print(\"DATA_DIR from env:\", data_dir_env)\n",
    "\n"
   ]
  },
  {
   "cell_type": "markdown",
   "id": "0e3a9403-c201-4937-b245-e919909c858b",
   "metadata": {},
   "source": [
    "Numpy operations"
   ]
  },
  {
   "cell_type": "code",
   "execution_count": null,
   "id": "96c15bca-b15a-47d7-8c85-d70265c55cf0",
   "metadata": {},
   "outputs": [],
   "source": [
    "import numpy as np"
   ]
  },
  {
   "cell_type": "code",
   "execution_count": 110,
   "id": "7dbd0b49-033a-4ed4-95d8-f938689e885f",
   "metadata": {},
   "outputs": [],
   "source": [
    "ar1 = np.random.rand(5,10,10)"
   ]
  },
  {
   "cell_type": "code",
   "execution_count": 114,
   "id": "b989561e-a36b-4fcc-bdf2-2f366ab2031d",
   "metadata": {},
   "outputs": [
    {
     "name": "stdout",
     "output_type": "stream",
     "text": [
      "Mean of array: 0.5003062449606014\n",
      "Standard Deviation of array: 0.2862999110441383\n"
     ]
    }
   ],
   "source": [
    "print(f\"Mean of array: {ar1.mean()}\")\n",
    "print(f\"Standard Deviation of array: {ar1.std()}\")"
   ]
  },
  {
   "cell_type": "code",
   "execution_count": null,
   "id": "e5881c2e-1b3f-437b-bd3f-9c8a7d3694a0",
   "metadata": {},
   "outputs": [],
   "source": []
  }
 ],
 "metadata": {
  "kernelspec": {
   "display_name": "Python(Fe-course_env)",
   "language": "python",
   "name": "fe-course"
  },
  "language_info": {
   "codemirror_mode": {
    "name": "ipython",
    "version": 3
   },
   "file_extension": ".py",
   "mimetype": "text/x-python",
   "name": "python",
   "nbconvert_exporter": "python",
   "pygments_lexer": "ipython3",
   "version": "3.12.7"
  }
 },
 "nbformat": 4,
 "nbformat_minor": 5
}
