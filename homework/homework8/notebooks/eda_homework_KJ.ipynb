{
 "cells": [
  {
   "cell_type": "code",
   "execution_count": null,
   "id": "d509df10-d405-4b46-b1ea-c1ce4b0f7b4e",
   "metadata": {},
   "outputs": [],
   "source": [
    "import numpy as np, pandas as pd, "
   ]
  }
 ],
 "metadata": {
  "kernelspec": {
   "display_name": "Python(Fe-course_env)",
   "language": "python",
   "name": "fe-course"
  },
  "language_info": {
   "codemirror_mode": {
    "name": "ipython",
    "version": 3
   },
   "file_extension": ".py",
   "mimetype": "text/x-python",
   "name": "python",
   "nbconvert_exporter": "python",
   "pygments_lexer": "ipython3",
   "version": "3.12.7"
  }
 },
 "nbformat": 4,
 "nbformat_minor": 5
}
