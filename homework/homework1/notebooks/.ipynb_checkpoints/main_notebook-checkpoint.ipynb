{
 "cells": [
  {
   "cell_type": "code",
   "execution_count": null,
   "id": "d7b8d811-e865-4b89-a9f3-6973656db31f",
   "metadata": {},
   "outputs": [],
   "source": [
    "(\"\"\"\n",
    " # Project Title\n",
    "Zinc LME–MCX Arbitrage Pricing Model with Freight & Carry Costs\n",
    " \n",
    " ## Problem Statement\n",
    "The Head of Metals Trading at [Your Company Name] needs a robust, data-driven approach to identify and capture arbitrage opportunities between **LME 3M Zinc futures** and **MCX near-month Zinc futures**.  \n",
    "While simple price spreads can indicate potential opportunities, real profitability depends on adjusting for **freight, carry/storage costs, FX rates, and transaction fees**.  \n",
    "Without an integrated pricing model, the trading desk risks either missing profitable windows or entering trades that turn unprofitable after costs.  \n",
    " \n",
    " ## Stakeholders\n",
    "- **Primary Decision-Maker:** Head of Metals Trading  \n",
    "- **End Users:** Physical metals traders, freight & logistics managers, execution analysts  \n",
    "- **Supporting Teams:** Risk management, compliance, finance\n",
    " \n",
    " ## Goal\n",
    "To design and deploy a Python-based pricing model that:\n",
    "1. Monitors **gross** and **net** spreads between LME and MCX Zinc futures in near real-time.  \n",
    "2. Adjusts for all major cost components including freight, carry, FX, and transaction costs.  \n",
    "3. Generates descriptive, predictive, and causal insights to improve arbitrage timing and route selection.  \n",
    "4. Delivers actionable trade signals via an interactive dashboard.\n",
    " \n",
    " \"\"\")\n"
   ]
  }
 ],
 "metadata": {
  "kernelspec": {
   "display_name": "bootcamp_env",
   "language": "python",
   "name": "python3"
  },
  "language_info": {
   "codemirror_mode": {
    "name": "ipython",
    "version": 3
   },
   "file_extension": ".py",
   "mimetype": "text/x-python",
   "name": "python",
   "nbconvert_exporter": "python",
   "pygments_lexer": "ipython3",
   "version": "3.10.18"
  }
 },
 "nbformat": 4,
 "nbformat_minor": 5
}
