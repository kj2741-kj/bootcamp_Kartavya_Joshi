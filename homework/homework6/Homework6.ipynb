{
 "cells": [
  {
   "cell_type": "code",
   "execution_count": 1,
   "id": "d76c5370-f5e4-47ba-8605-1dd86408df9a",
   "metadata": {},
   "outputs": [
    {
     "data": {
      "text/plain": [
       "'C:\\\\Users\\\\Kartavya\\\\bootcamp_Kartavya_Joshi\\\\homework\\\\homework\\\\homework6'"
      ]
     },
     "execution_count": 1,
     "metadata": {},
     "output_type": "execute_result"
    }
   ],
   "source": [
    "import os, numpy as np, pandas as pd, datetime as dt, pathlib\n",
    "from dotenv import load_dotenv\n",
    "from sklearn.preprocessing import MinMaxScaler\n",
    "from src.cleaning_new import *\n",
    "\n",
    "path = r\"C:\\Users\\Kartavya\\bootcamp_Kartavya_Joshi\\homework\\homework\\homework6\"\n",
    "os.chdir(path)\n",
    "os.getcwd()"
   ]
  },
  {
   "cell_type": "code",
   "execution_count": 2,
   "id": "201f3e87-d17f-4378-b86c-4ffbaf9d4e68",
   "metadata": {},
   "outputs": [
    {
     "name": "stdout",
     "output_type": "stream",
     "text": [
      "RAW_DIR: C:\\Users\\Kartavya\\bootcamp_Kartavya_Joshi\\homework\\homework\\homework6\\data\\raw\n",
      "PROCESS_DIR: C:\\Users\\Kartavya\\bootcamp_Kartavya_Joshi\\homework\\homework\\homework6\\data\\processed\n",
      "RAW_DIR: C:\\Users\\Kartavya\\bootcamp_Kartavya_Joshi\\homework\\homework\\homework6\\notebook\n",
      "RAW_DIR: C:\\Users\\Kartavya\\bootcamp_Kartavya_Joshi\\homework\\homework\\homework6\\src\n"
     ]
    }
   ],
   "source": [
    "RAW_DIR=pathlib.Path((os.getenv(\"DATA_DIR_RAW\",\"data/raw\")))\n",
    "PROCESS_DIR=pathlib.Path(os.getenv(\"PROCESS_DIR_RAW\",\"data/processed\"))\n",
    "NOTE_DIR=pathlib.Path(os.getenv(\"NOTE_DIR_RAW\",\"notebook\"))\n",
    "SRC_DIR=pathlib.Path(os.getenv(\"SRC_DIR_RAW\",\"src\"))\n",
    "RAW_DIR.mkdir(parents=True, exist_ok=True)\n",
    "print(\"RAW_DIR:\",RAW_DIR.resolve())\n",
    "PROCESS_DIR.mkdir(parents=True, exist_ok=True)\n",
    "print(\"PROCESS_DIR:\",PROCESS_DIR.resolve())\n",
    "NOTE_DIR.mkdir(parents=True, exist_ok=True)\n",
    "print(\"RAW_DIR:\",NOTE_DIR.resolve())\n",
    "SRC_DIR.mkdir(parents=True, exist_ok=True)\n",
    "print(\"RAW_DIR:\",SRC_DIR.resolve())"
   ]
  },
  {
   "cell_type": "markdown",
   "id": "525c9500-2f23-415f-9cf2-5e50f14589a6",
   "metadata": {},
   "source": [
    "Create dataset"
   ]
  },
  {
   "cell_type": "code",
   "execution_count": 4,
   "id": "7db48b48-a63c-44ea-aef8-852c54f433f1",
   "metadata": {},
   "outputs": [
    {
     "name": "stdout",
     "output_type": "stream",
     "text": [
      "CSV already exists at data/raw/data_raw_create.csv\n"
     ]
    }
   ],
   "source": [
    "csv_path = 'data/raw/data_raw_create.csv'\n",
    "os.makedirs('data', exist_ok=True)\n",
    "\n",
    "if not os.path.exists(csv_path):\n",
    "    df_demo = pd.DataFrame({\n",
    "        'numeric_col': [10, None, 40, 55, 70],\n",
    "        'category_col': ['A', 'B', 'A', 'B', 'C'],\n",
    "        'price': ['$100', '$200', '$150', None, '$250'],\n",
    "        'date_str': ['2025-08-01','2025-08-02',None,'2025-08-04','2025-08-05'],\n",
    "        'category': ['Electronics','Furniture','Toys','Clothing',None]\n",
    "    })\n",
    "    df_demo.to_csv(csv_path, index=False)\n",
    "    print(f\"Demo CSV created at {csv_path}\")\n",
    "else:\n",
    "    print(f\"CSV already exists at {csv_path}\")\n",
    "\n"
   ]
  },
  {
   "cell_type": "markdown",
   "id": "8955415b-c951-462c-a41b-aeb448746a16",
   "metadata": {},
   "source": [
    "Load data"
   ]
  },
  {
   "cell_type": "code",
   "execution_count": 6,
   "id": "a58f58b6-1131-4db3-90b6-86ed01e206b2",
   "metadata": {},
   "outputs": [
    {
     "data": {
      "text/html": [
       "<div>\n",
       "<style scoped>\n",
       "    .dataframe tbody tr th:only-of-type {\n",
       "        vertical-align: middle;\n",
       "    }\n",
       "\n",
       "    .dataframe tbody tr th {\n",
       "        vertical-align: top;\n",
       "    }\n",
       "\n",
       "    .dataframe thead th {\n",
       "        text-align: right;\n",
       "    }\n",
       "</style>\n",
       "<table border=\"1\" class=\"dataframe\">\n",
       "  <thead>\n",
       "    <tr style=\"text-align: right;\">\n",
       "      <th></th>\n",
       "      <th>numeric_col</th>\n",
       "      <th>category_col</th>\n",
       "      <th>price</th>\n",
       "      <th>date_str</th>\n",
       "      <th>category</th>\n",
       "    </tr>\n",
       "  </thead>\n",
       "  <tbody>\n",
       "    <tr>\n",
       "      <th>0</th>\n",
       "      <td>10.0</td>\n",
       "      <td>A</td>\n",
       "      <td>$100</td>\n",
       "      <td>2025-08-01</td>\n",
       "      <td>Electronics</td>\n",
       "    </tr>\n",
       "    <tr>\n",
       "      <th>1</th>\n",
       "      <td>NaN</td>\n",
       "      <td>B</td>\n",
       "      <td>$200</td>\n",
       "      <td>2025-08-02</td>\n",
       "      <td>Furniture</td>\n",
       "    </tr>\n",
       "    <tr>\n",
       "      <th>2</th>\n",
       "      <td>40.0</td>\n",
       "      <td>A</td>\n",
       "      <td>$150</td>\n",
       "      <td>NaN</td>\n",
       "      <td>Toys</td>\n",
       "    </tr>\n",
       "    <tr>\n",
       "      <th>3</th>\n",
       "      <td>55.0</td>\n",
       "      <td>B</td>\n",
       "      <td>NaN</td>\n",
       "      <td>2025-08-04</td>\n",
       "      <td>Clothing</td>\n",
       "    </tr>\n",
       "    <tr>\n",
       "      <th>4</th>\n",
       "      <td>70.0</td>\n",
       "      <td>C</td>\n",
       "      <td>$250</td>\n",
       "      <td>2025-08-05</td>\n",
       "      <td>NaN</td>\n",
       "    </tr>\n",
       "  </tbody>\n",
       "</table>\n",
       "</div>"
      ],
      "text/plain": [
       "   numeric_col category_col price    date_str     category\n",
       "0         10.0            A  $100  2025-08-01  Electronics\n",
       "1          NaN            B  $200  2025-08-02    Furniture\n",
       "2         40.0            A  $150         NaN         Toys\n",
       "3         55.0            B   NaN  2025-08-04     Clothing\n",
       "4         70.0            C  $250  2025-08-05          NaN"
      ]
     },
     "execution_count": 6,
     "metadata": {},
     "output_type": "execute_result"
    }
   ],
   "source": [
    "df = pd.read_csv(csv_path)\n",
    "\n",
    "df_processed= df\n",
    "df.head()"
   ]
  },
  {
   "cell_type": "code",
   "execution_count": 7,
   "id": "1f9a9860-6024-4ffb-9d5c-9fc8a90dcce2",
   "metadata": {},
   "outputs": [
    {
     "data": {
      "text/html": [
       "<div>\n",
       "<style scoped>\n",
       "    .dataframe tbody tr th:only-of-type {\n",
       "        vertical-align: middle;\n",
       "    }\n",
       "\n",
       "    .dataframe tbody tr th {\n",
       "        vertical-align: top;\n",
       "    }\n",
       "\n",
       "    .dataframe thead th {\n",
       "        text-align: right;\n",
       "    }\n",
       "</style>\n",
       "<table border=\"1\" class=\"dataframe\">\n",
       "  <thead>\n",
       "    <tr style=\"text-align: right;\">\n",
       "      <th></th>\n",
       "      <th>numeric_col</th>\n",
       "      <th>category_col</th>\n",
       "      <th>price</th>\n",
       "      <th>date_str</th>\n",
       "      <th>category</th>\n",
       "    </tr>\n",
       "  </thead>\n",
       "  <tbody>\n",
       "    <tr>\n",
       "      <th>0</th>\n",
       "      <td>10.0</td>\n",
       "      <td>A</td>\n",
       "      <td>$100</td>\n",
       "      <td>2025-08-01</td>\n",
       "      <td>Electronics</td>\n",
       "    </tr>\n",
       "    <tr>\n",
       "      <th>1</th>\n",
       "      <td>10.0</td>\n",
       "      <td>B</td>\n",
       "      <td>$200</td>\n",
       "      <td>2025-08-02</td>\n",
       "      <td>Furniture</td>\n",
       "    </tr>\n",
       "    <tr>\n",
       "      <th>2</th>\n",
       "      <td>40.0</td>\n",
       "      <td>A</td>\n",
       "      <td>$150</td>\n",
       "      <td>NaN</td>\n",
       "      <td>Toys</td>\n",
       "    </tr>\n",
       "    <tr>\n",
       "      <th>3</th>\n",
       "      <td>55.0</td>\n",
       "      <td>B</td>\n",
       "      <td>NaN</td>\n",
       "      <td>2025-08-04</td>\n",
       "      <td>Clothing</td>\n",
       "    </tr>\n",
       "    <tr>\n",
       "      <th>4</th>\n",
       "      <td>70.0</td>\n",
       "      <td>C</td>\n",
       "      <td>$250</td>\n",
       "      <td>2025-08-05</td>\n",
       "      <td>NaN</td>\n",
       "    </tr>\n",
       "  </tbody>\n",
       "</table>\n",
       "</div>"
      ],
      "text/plain": [
       "   numeric_col category_col price    date_str     category\n",
       "0         10.0            A  $100  2025-08-01  Electronics\n",
       "1         10.0            B  $200  2025-08-02    Furniture\n",
       "2         40.0            A  $150         NaN         Toys\n",
       "3         55.0            B   NaN  2025-08-04     Clothing\n",
       "4         70.0            C  $250  2025-08-05          NaN"
      ]
     },
     "execution_count": 7,
     "metadata": {},
     "output_type": "execute_result"
    }
   ],
   "source": [
    "# Forward fill numeric_col NA values\n",
    "df_processed['numeric_col']= df_processed['numeric_col'].ffill()\n",
    "df_processed"
   ]
  },
  {
   "cell_type": "code",
   "execution_count": 8,
   "id": "6ae97639-d67f-4aa7-8c78-c5e40d26ea3e",
   "metadata": {},
   "outputs": [
    {
     "data": {
      "text/html": [
       "<div>\n",
       "<style scoped>\n",
       "    .dataframe tbody tr th:only-of-type {\n",
       "        vertical-align: middle;\n",
       "    }\n",
       "\n",
       "    .dataframe tbody tr th {\n",
       "        vertical-align: top;\n",
       "    }\n",
       "\n",
       "    .dataframe thead th {\n",
       "        text-align: right;\n",
       "    }\n",
       "</style>\n",
       "<table border=\"1\" class=\"dataframe\">\n",
       "  <thead>\n",
       "    <tr style=\"text-align: right;\">\n",
       "      <th></th>\n",
       "      <th>numeric_col</th>\n",
       "      <th>category_col</th>\n",
       "      <th>price</th>\n",
       "      <th>date_str</th>\n",
       "      <th>category</th>\n",
       "    </tr>\n",
       "  </thead>\n",
       "  <tbody>\n",
       "    <tr>\n",
       "      <th>0</th>\n",
       "      <td>10.0</td>\n",
       "      <td>A</td>\n",
       "      <td>$100</td>\n",
       "      <td>2025-08-01</td>\n",
       "      <td>Electronics</td>\n",
       "    </tr>\n",
       "    <tr>\n",
       "      <th>1</th>\n",
       "      <td>10.0</td>\n",
       "      <td>B</td>\n",
       "      <td>$200</td>\n",
       "      <td>2025-08-02</td>\n",
       "      <td>Furniture</td>\n",
       "    </tr>\n",
       "    <tr>\n",
       "      <th>2</th>\n",
       "      <td>40.0</td>\n",
       "      <td>A</td>\n",
       "      <td>$150</td>\n",
       "      <td>NaN</td>\n",
       "      <td>Toys</td>\n",
       "    </tr>\n",
       "    <tr>\n",
       "      <th>3</th>\n",
       "      <td>55.0</td>\n",
       "      <td>B</td>\n",
       "      <td>$150</td>\n",
       "      <td>2025-08-04</td>\n",
       "      <td>Clothing</td>\n",
       "    </tr>\n",
       "    <tr>\n",
       "      <th>4</th>\n",
       "      <td>70.0</td>\n",
       "      <td>C</td>\n",
       "      <td>$250</td>\n",
       "      <td>2025-08-05</td>\n",
       "      <td>NaN</td>\n",
       "    </tr>\n",
       "  </tbody>\n",
       "</table>\n",
       "</div>"
      ],
      "text/plain": [
       "   numeric_col category_col price    date_str     category\n",
       "0         10.0            A  $100  2025-08-01  Electronics\n",
       "1         10.0            B  $200  2025-08-02    Furniture\n",
       "2         40.0            A  $150         NaN         Toys\n",
       "3         55.0            B  $150  2025-08-04     Clothing\n",
       "4         70.0            C  $250  2025-08-05          NaN"
      ]
     },
     "execution_count": 8,
     "metadata": {},
     "output_type": "execute_result"
    }
   ],
   "source": [
    "# Forward fill price NA values\n",
    "df_processed['price']= df_processed['price'].ffill()\n",
    "df_processed"
   ]
  },
  {
   "cell_type": "code",
   "execution_count": 9,
   "id": "ed33d346-7afd-47c7-8823-e52ea0ef19c6",
   "metadata": {},
   "outputs": [],
   "source": [
    "# Convert float to str\n",
    "\n",
    "if 'price' in df.columns:\n",
    "    df_processed['price'] = df_processed['price'].str.replace('$','').astype(float)\n",
    "\n",
    "# Convert string to datetime\n",
    "df_processed[\"date_str\"] = pd.to_datetime(df_processed[\"date_str\"], errors=\"coerce\")\n",
    "\n",
    "\n"
   ]
  },
  {
   "cell_type": "code",
   "execution_count": 10,
   "id": "5bcf0678-3ca1-4c8a-ad49-c21ed4d357d1",
   "metadata": {},
   "outputs": [
    {
     "data": {
      "text/html": [
       "<div>\n",
       "<style scoped>\n",
       "    .dataframe tbody tr th:only-of-type {\n",
       "        vertical-align: middle;\n",
       "    }\n",
       "\n",
       "    .dataframe tbody tr th {\n",
       "        vertical-align: top;\n",
       "    }\n",
       "\n",
       "    .dataframe thead th {\n",
       "        text-align: right;\n",
       "    }\n",
       "</style>\n",
       "<table border=\"1\" class=\"dataframe\">\n",
       "  <thead>\n",
       "    <tr style=\"text-align: right;\">\n",
       "      <th></th>\n",
       "      <th>numeric_col</th>\n",
       "      <th>category_col</th>\n",
       "      <th>price</th>\n",
       "      <th>date_str</th>\n",
       "      <th>category</th>\n",
       "    </tr>\n",
       "  </thead>\n",
       "  <tbody>\n",
       "    <tr>\n",
       "      <th>0</th>\n",
       "      <td>10.0</td>\n",
       "      <td>A</td>\n",
       "      <td>100.0</td>\n",
       "      <td>2025-08-01</td>\n",
       "      <td>Electronics</td>\n",
       "    </tr>\n",
       "    <tr>\n",
       "      <th>1</th>\n",
       "      <td>10.0</td>\n",
       "      <td>B</td>\n",
       "      <td>200.0</td>\n",
       "      <td>2025-08-02</td>\n",
       "      <td>Furniture</td>\n",
       "    </tr>\n",
       "    <tr>\n",
       "      <th>2</th>\n",
       "      <td>40.0</td>\n",
       "      <td>A</td>\n",
       "      <td>150.0</td>\n",
       "      <td>NaT</td>\n",
       "      <td>Toys</td>\n",
       "    </tr>\n",
       "    <tr>\n",
       "      <th>3</th>\n",
       "      <td>55.0</td>\n",
       "      <td>B</td>\n",
       "      <td>150.0</td>\n",
       "      <td>2025-08-04</td>\n",
       "      <td>Clothing</td>\n",
       "    </tr>\n",
       "    <tr>\n",
       "      <th>4</th>\n",
       "      <td>70.0</td>\n",
       "      <td>C</td>\n",
       "      <td>250.0</td>\n",
       "      <td>2025-08-05</td>\n",
       "      <td>NaN</td>\n",
       "    </tr>\n",
       "  </tbody>\n",
       "</table>\n",
       "</div>"
      ],
      "text/plain": [
       "   numeric_col category_col  price   date_str     category\n",
       "0         10.0            A  100.0 2025-08-01  Electronics\n",
       "1         10.0            B  200.0 2025-08-02    Furniture\n",
       "2         40.0            A  150.0        NaT         Toys\n",
       "3         55.0            B  150.0 2025-08-04     Clothing\n",
       "4         70.0            C  250.0 2025-08-05          NaN"
      ]
     },
     "execution_count": 10,
     "metadata": {},
     "output_type": "execute_result"
    }
   ],
   "source": [
    "# Applying missing_median\n",
    "df_processed=missing_median_(df_processed)\n",
    "df_processed"
   ]
  },
  {
   "cell_type": "code",
   "execution_count": 11,
   "id": "43f8d47a-c766-4596-b85b-d52423e30cc8",
   "metadata": {},
   "outputs": [
    {
     "data": {
      "text/html": [
       "<div>\n",
       "<style scoped>\n",
       "    .dataframe tbody tr th:only-of-type {\n",
       "        vertical-align: middle;\n",
       "    }\n",
       "\n",
       "    .dataframe tbody tr th {\n",
       "        vertical-align: top;\n",
       "    }\n",
       "\n",
       "    .dataframe thead th {\n",
       "        text-align: right;\n",
       "    }\n",
       "</style>\n",
       "<table border=\"1\" class=\"dataframe\">\n",
       "  <thead>\n",
       "    <tr style=\"text-align: right;\">\n",
       "      <th></th>\n",
       "      <th>numeric_col</th>\n",
       "      <th>category_col</th>\n",
       "      <th>price</th>\n",
       "      <th>date_str</th>\n",
       "      <th>category</th>\n",
       "    </tr>\n",
       "  </thead>\n",
       "  <tbody>\n",
       "    <tr>\n",
       "      <th>0</th>\n",
       "      <td>10.0</td>\n",
       "      <td>A</td>\n",
       "      <td>100.0</td>\n",
       "      <td>2025-08-01</td>\n",
       "      <td>Electronics</td>\n",
       "    </tr>\n",
       "    <tr>\n",
       "      <th>1</th>\n",
       "      <td>10.0</td>\n",
       "      <td>B</td>\n",
       "      <td>200.0</td>\n",
       "      <td>2025-08-02</td>\n",
       "      <td>Furniture</td>\n",
       "    </tr>\n",
       "    <tr>\n",
       "      <th>3</th>\n",
       "      <td>55.0</td>\n",
       "      <td>B</td>\n",
       "      <td>150.0</td>\n",
       "      <td>2025-08-04</td>\n",
       "      <td>Clothing</td>\n",
       "    </tr>\n",
       "  </tbody>\n",
       "</table>\n",
       "</div>"
      ],
      "text/plain": [
       "   numeric_col category_col  price   date_str     category\n",
       "0         10.0            A  100.0 2025-08-01  Electronics\n",
       "1         10.0            B  200.0 2025-08-02    Furniture\n",
       "3         55.0            B  150.0 2025-08-04     Clothing"
      ]
     },
     "execution_count": 11,
     "metadata": {},
     "output_type": "execute_result"
    }
   ],
   "source": [
    "#Applying drop_missing\n",
    "df_processed=drop_missing(df)\n",
    "df_processed"
   ]
  },
  {
   "cell_type": "code",
   "execution_count": 12,
   "id": "cfadd308-e20e-4cce-ad81-d55a1e0aefe5",
   "metadata": {},
   "outputs": [
    {
     "data": {
      "text/html": [
       "<div>\n",
       "<style scoped>\n",
       "    .dataframe tbody tr th:only-of-type {\n",
       "        vertical-align: middle;\n",
       "    }\n",
       "\n",
       "    .dataframe tbody tr th {\n",
       "        vertical-align: top;\n",
       "    }\n",
       "\n",
       "    .dataframe thead th {\n",
       "        text-align: right;\n",
       "    }\n",
       "</style>\n",
       "<table border=\"1\" class=\"dataframe\">\n",
       "  <thead>\n",
       "    <tr style=\"text-align: right;\">\n",
       "      <th></th>\n",
       "      <th>numeric_col</th>\n",
       "      <th>category_col</th>\n",
       "      <th>price</th>\n",
       "      <th>date_str</th>\n",
       "      <th>category</th>\n",
       "    </tr>\n",
       "  </thead>\n",
       "  <tbody>\n",
       "    <tr>\n",
       "      <th>0</th>\n",
       "      <td>0.0</td>\n",
       "      <td>A</td>\n",
       "      <td>0.0</td>\n",
       "      <td>2025-08-01</td>\n",
       "      <td>Electronics</td>\n",
       "    </tr>\n",
       "    <tr>\n",
       "      <th>1</th>\n",
       "      <td>0.0</td>\n",
       "      <td>B</td>\n",
       "      <td>1.0</td>\n",
       "      <td>2025-08-02</td>\n",
       "      <td>Furniture</td>\n",
       "    </tr>\n",
       "    <tr>\n",
       "      <th>3</th>\n",
       "      <td>1.0</td>\n",
       "      <td>B</td>\n",
       "      <td>0.5</td>\n",
       "      <td>2025-08-04</td>\n",
       "      <td>Clothing</td>\n",
       "    </tr>\n",
       "  </tbody>\n",
       "</table>\n",
       "</div>"
      ],
      "text/plain": [
       "   numeric_col category_col  price   date_str     category\n",
       "0          0.0            A    0.0 2025-08-01  Electronics\n",
       "1          0.0            B    1.0 2025-08-02    Furniture\n",
       "3          1.0            B    0.5 2025-08-04     Clothing"
      ]
     },
     "execution_count": 12,
     "metadata": {},
     "output_type": "execute_result"
    }
   ],
   "source": [
    "# Normalize_data\n",
    "normalize_data(df_processed, method='minmax')"
   ]
  },
  {
   "cell_type": "code",
   "execution_count": 13,
   "id": "d16d91d4-35ad-40a9-9d1b-edaf917fe4cd",
   "metadata": {},
   "outputs": [
    {
     "name": "stdout",
     "output_type": "stream",
     "text": [
      "data_cleaned.csv saved\n"
     ]
    }
   ],
   "source": [
    "csv_path1 = 'data/processed/data_cleaned.csv'\n",
    "df_processed.to_csv(csv_path1, index=False)\n",
    "print(\"data_cleaned.csv saved\")"
   ]
  },
  {
   "cell_type": "code",
   "execution_count": 14,
   "id": "6a7e0bc2-bc08-4af9-b07f-ebe0f9fd6ad2",
   "metadata": {},
   "outputs": [
    {
     "name": "stdout",
     "output_type": "stream",
     "text": [
      "Shape Comparison:\n",
      "Raw shape:       (5, 5)\n",
      "Processed shape: (3, 5)\n",
      "\n",
      " Missing Values (Raw):\n",
      "numeric_col     0\n",
      "category_col    0\n",
      "price           0\n",
      "date_str        1\n",
      "category        1\n",
      "dtype: int64\n",
      "\n",
      " Missing Values (Processed):\n",
      "numeric_col     0\n",
      "category_col    0\n",
      "price           0\n",
      "date_str        0\n",
      "category        0\n",
      "dtype: int64\n",
      "\n",
      "Dtypes Comparison:\n",
      "                   raw_dtype processed_dtype\n",
      "numeric_col          float64         float64\n",
      "category_col          object          object\n",
      "price                float64         float64\n",
      "date_str      datetime64[ns]  datetime64[ns]\n",
      "category              object          object\n",
      "\n"
     ]
    }
   ],
   "source": [
    "compare_raw_vs_processed(df, df_processed)"
   ]
  },
  {
   "cell_type": "code",
   "execution_count": null,
   "id": "2b676a4f-1064-4d0e-8ea6-3eee95a285b0",
   "metadata": {},
   "outputs": [],
   "source": []
  }
 ],
 "metadata": {
  "kernelspec": {
   "display_name": "Python(Fe-course_env)",
   "language": "python",
   "name": "fe-course"
  },
  "language_info": {
   "codemirror_mode": {
    "name": "ipython",
    "version": 3
   },
   "file_extension": ".py",
   "mimetype": "text/x-python",
   "name": "python",
   "nbconvert_exporter": "python",
   "pygments_lexer": "ipython3",
   "version": "3.12.7"
  }
 },
 "nbformat": 4,
 "nbformat_minor": 5
}
