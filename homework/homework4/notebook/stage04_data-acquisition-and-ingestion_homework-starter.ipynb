{
 "cells": [
  {
   "cell_type": "code",
   "execution_count": 75,
   "id": "1a4701d9-2aec-4975-b983-c5cb68c7b39e",
   "metadata": {},
   "outputs": [
    {
     "data": {
      "text/plain": [
       "True"
      ]
     },
     "execution_count": 75,
     "metadata": {},
     "output_type": "execute_result"
    }
   ],
   "source": [
    "import os,pathlib,csv,dotenv,json,requests,time, datetime as dt\n",
    "from typing import Dict, List\n",
    "import numpy as np\n",
    "import pandas as pd\n",
    "from bs4 import BeautifulSoup\n",
    "from dotenv import load_dotenv\n",
    "\n",
    "\n",
    "path = r\"C:\\Users\\Kartavya\\bootcamp_Kartavya_Joshi\\homework\\homework\\homework4\"\n",
    "os.chdir(path)\n",
    "os.getcwd()\n",
    "\n",
    "DATA_RAW = pathlib.Path(\"data/raw\")\n",
    "DATA_RAW.mkdir(parents=True, exist_ok=True)\n",
    "\n",
    "dotenv.load_dotenv()"
   ]
  },
  {
   "cell_type": "code",
   "execution_count": 64,
   "id": "b99de051-3470-4a3e-a3bb-faf7a2229fa3",
   "metadata": {},
   "outputs": [
    {
     "data": {
      "text/plain": [
       "'T6ZCSVD6PVSQGHFM'"
      ]
     },
     "execution_count": 64,
     "metadata": {},
     "output_type": "execute_result"
    }
   ],
   "source": [
    "API_ALPHAKEY= os.getenv(\"API_KEY_ALPHAVANTAGE\")\n",
    "API_ALPHAKEY"
   ]
  },
  {
   "cell_type": "markdown",
   "id": "9acea12b-d71e-4886-9771-8c3cdf6f5c41",
   "metadata": {},
   "source": [
    "Helper functions: File name, time stamp and validation"
   ]
  },
  {
   "cell_type": "code",
   "execution_count": 67,
   "id": "a1f06c3c-de12-4cab-8e1a-db83cbb1bd3b",
   "metadata": {},
   "outputs": [],
   "source": [
    "def savestamp():\n",
    "    return dt.datetime.now().strftime(\"%Y%m%d-%H%M%S\")"
   ]
  },
  {
   "cell_type": "code",
   "execution_count": 69,
   "id": "b0289b6a-b687-426d-bded-d8792bdd2df6",
   "metadata": {},
   "outputs": [],
   "source": [
    "def save_filename(prefix: str, meta: Dict[str,str]) -> str:\n",
    "    mid=\"_\".join([f\"{k}-{str(v).replace(' ', '-')[:20]}\" for k,v in meta.items()])\n",
    "    return f\"{prefix}_{mid}_{save_stamp()}.csv\"\n",
    "\n",
    "def validate_df(df: pd.DataFrame, required_cols:List[str], dtypes_map: Dict[str,str]) ->Dict[str,str]:\n",
    "    msgs= {}\n",
    "    missing = [c for c in required_cols if c not in df.columns]\n",
    "    if missing:\n",
    "        msgs['missing cols'] =f\"Missing columns: {missing}\"\n",
    "    for col, dtype in dtypes_map.items():\n",
    "        if col in df.columns:\n",
    "            try:\n",
    "                    if dtype == 'datetime64[ns]':\n",
    "                        pd.to_datetime(df[col])\n",
    "                    elif dtype == 'float':\n",
    "                        pd.to_numeric(df[col])\n",
    "            except Exception as e:\n",
    "                msgs[f'dtype_{col}'] = f\"Failed to coerce {col} to {dtype}: {e}\"\n",
    "    na_counts = df.isna().sum().sum()\n",
    "    msgs['na_total'] = f\"Total NA values: {na_counts}\"\n",
    "    return msgs                 "
   ]
  },
  {
   "cell_type": "markdown",
   "id": "d6c3ae8e-552f-40af-9cd3-2c5915514c14",
   "metadata": {},
   "source": [
    "API Ingestion"
   ]
  },
  {
   "cell_type": "code",
   "execution_count": 95,
   "id": "cc3c4cb9-a04b-4907-b0b7-a92357f2c88a",
   "metadata": {},
   "outputs": [
    {
     "name": "stdout",
     "output_type": "stream",
     "text": [
      " API failed, falling back to Yahoo Finance: Unexpected response keys: ['Error Message']\n",
      "YF.download() has changed argument auto_adjust default to True\n"
     ]
    },
    {
     "name": "stderr",
     "output_type": "stream",
     "text": [
      "[*********************100%***********************]  1 of 1 completed\n"
     ]
    }
   ],
   "source": [
    "try:\n",
    "    symbol = ['NVDA']\n",
    "    url = f\"https://www.alphavantage.co/query?function=TIME_SERIES_DAILY&symbol={symbol}&apikey={API_ALPHAKEY}\"\n",
    "    r = requests.get(url, timeout=20)\n",
    "    r.raise_for_status()\n",
    "    js = r.json()\n",
    "\n",
    "    key = [k for k in js.keys() if \"Time Series\" in k]\n",
    "    assert key, f\"Unexpected response keys: {list(js.keys())}\"\n",
    "\n",
    "    series = js[key[0]]\n",
    "    df_api = (\n",
    "        pd.DataFrame(series).T\n",
    "        .rename_axis(\"date\")\n",
    "        .reset_index()\n",
    "        .rename(columns={\n",
    "            \"1. open\": \"Open\",\n",
    "            \"2. high\": \"High\",\n",
    "            \"3. low\": \"Low\",\n",
    "            \"4. close\": \"Close\",\n",
    "            \"5. volume\": \"Volume\"\n",
    "        })\n",
    "    )\n",
    "\n",
    "    print(\" Data from Alpha Vantage API\")\n",
    "    print(df_api.head())\n",
    "\n",
    "except Exception as e:\n",
    "    print(\" API failed, falling back to Yahoo Finance:\", e)\n",
    "    \n",
    "    import yfinance as yf\n",
    "    df_api = yf.download(symbol, period=\"6mo\", interval=\"1d\").reset_index()[['Date','Close']]\n",
    "    df_api.columns = ['date','close']\n",
    "\n",
    "    \n",
    "df_api.to_csv(\"data/raw/NVDA_20250819\", index=False)"
   ]
  },
  {
   "cell_type": "code",
   "execution_count": null,
   "id": "0d3558e2-9658-4979-bda0-240029eec323",
   "metadata": {},
   "outputs": [],
   "source": []
  },
  {
   "cell_type": "code",
   "execution_count": 99,
   "id": "cece7256-95b5-4cd6-a0ae-94007c9cb7c1",
   "metadata": {},
   "outputs": [
    {
     "name": "stdout",
     "output_type": "stream",
     "text": [
      " Scraping sample data: Juice concentrate nutrition info:\n",
      "                       mg/kg   mg/d  μmol/d      %\n",
      "0            Vitamin C   360  255.5  1451.9   2.3%\n",
      "1          Carotenoids  8.10    5.7    11.5  18.5%\n",
      "2        Xanthophylls1  5.40    3.8     6.7  18.1%\n",
      "3      Cryptoxanthins2  1.59    1.1     2.0  16.2%\n",
      "4  Trans beta-carotene  0.40    0.3     0.5  22.2%\n"
     ]
    }
   ],
   "source": [
    "scrape_url = f\"https://pmc.ncbi.nlm.nih.gov/articles/PMC2533031/table/T1/\"\n",
    "headers = {\"User-Agent\": \"AFE-Course-Notebook/1.0\"}\n",
    "        \n",
    "res = requests.get(scrape_url, headers=headers, timeout=20)\n",
    "res.raise_for_status()\n",
    "soup = BeautifulSoup(res.text, \"html.parser\")\n",
    "table = soup.find(\"table\")\n",
    "rawdata = []\n",
    "\n",
    "for tr in table.find_all(\"tr\"):\n",
    "    cells = [td.get_text(strip=True) for td in tr.find_all([\"td\", \"th\"])]\n",
    "    if cells:\n",
    "        rawdata.append(cells)\n",
    "   \n",
    "header, *data = rawdata[1:]\n",
    "df_scrape = pd.DataFrame(data, columns=header)\n",
    "    \n",
    "print(\" Scraping sample data: Juice concentrate nutrition info:\")\n",
    "print(df_scrape.head())\n",
    "    \n",
    "    \n",
    "#save result to CSV in data/raw\n",
    "df_scrape.to_csv(\"data/raw/scrape_sampletable\", index=False)"
   ]
  },
  {
   "cell_type": "markdown",
   "id": "b02670c2-8f96-45aa-b426-67f77019358d",
   "metadata": {},
   "source": [
    "Validation -text, date and number"
   ]
  },
  {
   "cell_type": "code",
   "execution_count": 101,
   "id": "2002f099-dbc0-4aba-9379-20aaeecb35e9",
   "metadata": {},
   "outputs": [
    {
     "name": "stdout",
     "output_type": "stream",
     "text": [
      "{'na_total': 'Total NA values: 0'}\n"
     ]
    }
   ],
   "source": [
    "msgs2 = validate_df(df_scrape, required_cols=list(df_scrape.columns), dtypes_map={})\n",
    "print(msgs2)"
   ]
  },
  {
   "cell_type": "markdown",
   "id": "17ccc442-37e2-447b-90ec-b9e04c759149",
   "metadata": {},
   "source": [
    "Assumptions and Risk:\n",
    "Risk:\n",
    "1) yfinance API getting crashed.\n",
    "2) scrape url not being fetched\n",
    "\n",
    "Assumptions:\n",
    "1) "
   ]
  }
 ],
 "metadata": {
  "kernelspec": {
   "display_name": "Python(Fe-course_env)",
   "language": "python",
   "name": "fe-course"
  },
  "language_info": {
   "codemirror_mode": {
    "name": "ipython",
    "version": 3
   },
   "file_extension": ".py",
   "mimetype": "text/x-python",
   "name": "python",
   "nbconvert_exporter": "python",
   "pygments_lexer": "ipython3",
   "version": "3.12.7"
  }
 },
 "nbformat": 4,
 "nbformat_minor": 5
}
